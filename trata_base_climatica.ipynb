{
 "cells": [
  {
   "cell_type": "code",
   "execution_count": null,
   "metadata": {},
   "outputs": [],
   "source": []
  },
  {
   "cell_type": "code",
   "execution_count": null,
   "metadata": {},
   "outputs": [],
   "source": [
    "import os\n",
    "\n",
    "caminho = 'C:\\desenvolvimento-projeto-final\\BASE\\CLIMA\\\\'\n",
    "\n",
    "filelist = os.listdir(caminho)\n",
    "\n",
    "filepath = []\n",
    "\n",
    "for i in filelist:\n",
    "    c = caminho + i\n",
    "    filepath.append(c)\n",
    "    \n",
    "tuplas_por_arquivo = dict()\n",
    "\n",
    "for nome_arquivo in filepath:\n",
    "    #print(arq)\n",
    "    arquivo = open(nome_arquivo,mode = 'r')\n",
    "    linhas = arquivo.readlines()\n",
    "    latitude = 0\n",
    "    longitude = 0\n",
    "    inicio_tabela = False\n",
    "    \n",
    "    headers = []\n",
    "    tuplas = []\n",
    "    for linha in linhas:\n",
    "        if not inicio_tabela:\n",
    "            if linha.find('Latitude') == 0:\n",
    "                latitude = float(linha.split(':')[1].strip())\n",
    "            elif linha.find('Longitude') == 0:\n",
    "                longitude = float(linha.split(':')[1].strip())\n",
    "            elif linha.find('Estacao;Data;Hora;TempBulboSeco;TempBulboUmido;UmidadeRelativa;PressaoAtmEstacao;DirecaoVento;VelocidadeVentoNebulosidade;') ==0:\n",
    "                headers = linha.split(';')\n",
    "                inicio_tabela = True\n",
    "        else:\n",
    "            tupla = dict()\n",
    "            colunas = linha.split(';')\n",
    "            for header, coluna in zip(headers ,colunas):\n",
    "                tupla[header] = coluna\n",
    "            tupla['Latitude'] = latitude\n",
    "            tupla['Longitude'] = longitude\n",
    "            tuplas.append(tupla)\n",
    "    tuplas_por_arquivo[nome_arquivo] = tuplas\n",
    "\n",
    "\n",
    "\n"
   ]
  },
  {
   "cell_type": "code",
   "execution_count": null,
   "metadata": {},
   "outputs": [],
   "source": []
  }
 ],
 "metadata": {
  "kernelspec": {
   "display_name": "Python 3",
   "language": "python",
   "name": "python3"
  },
  "language_info": {
   "codemirror_mode": {
    "name": "ipython",
    "version": 3
   },
   "file_extension": ".py",
   "mimetype": "text/x-python",
   "name": "python",
   "nbconvert_exporter": "python",
   "pygments_lexer": "ipython3",
   "version": "3.6.4"
  }
 },
 "nbformat": 4,
 "nbformat_minor": 2
}
