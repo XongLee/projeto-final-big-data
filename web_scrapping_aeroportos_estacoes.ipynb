{
 "cells": [
  {
   "cell_type": "code",
   "execution_count": null,
   "metadata": {},
   "outputs": [],
   "source": [
    "#pip install beautifulsoup4\n",
    "from bs4 import BeautifulSoup"
   ]
  },
  {
   "cell_type": "code",
   "execution_count": null,
   "metadata": {},
   "outputs": [],
   "source": [
    "html_file = open('html_geolocation_aeroportos.html', mode='r', encoding='utf-8')"
   ]
  },
  {
   "cell_type": "code",
   "execution_count": null,
   "metadata": {},
   "outputs": [],
   "source": [
    "soup = BeautifulSoup(html_file, 'html.parser')"
   ]
  },
  {
   "cell_type": "code",
   "execution_count": null,
   "metadata": {},
   "outputs": [],
   "source": [
    "def recuperar_tuplas_de_table(soup, caminho_para_trs_da_table):\n",
    "\n",
    "    tuplas = []\n",
    "\n",
    "    headers = []\n",
    "    \n",
    "    for indice,linha_da_tabela in enumerate(soup.select(caminho_para_trs_da_table)):\n",
    "        \n",
    "        if indice == 0:\n",
    "            header_columns = linha_da_tabela.findAll('th')\n",
    "            for header_column in header_columns:\n",
    "                headers.append(header_column.get_text().strip())\n",
    "            \n",
    "        colunas = linha_da_tabela.findAll('td')\n",
    "\n",
    "        if len(colunas) > 0:\n",
    "\n",
    "            tupla = dict()\n",
    "            \n",
    "            for header, coluna in zip(headers, colunas):\n",
    "            \n",
    "                tupla[header] = coluna.get_text().strip()\n",
    "\n",
    "            tuplas.append(tupla)\n",
    "\n",
    "            \n",
    "    return tuplas"
   ]
  },
  {
   "cell_type": "code",
   "execution_count": null,
   "metadata": {},
   "outputs": [],
   "source": [
    "table = recuperar_tuplas_de_table(soup, caminho_para_trs_da_table='table.tabl tr')"
   ]
  },
  {
   "cell_type": "code",
   "execution_count": null,
   "metadata": {},
   "outputs": [],
   "source": [
    "tuplas_so_de_aeroporto = []\n",
    "\n",
    "for tupla in table:\n",
    "    if tupla['ICAO:'] != '-':\n",
    "        tuplas_so_de_aeroporto.append(tupla)\n",
    "\n",
    "tuplas_so_de_aeroporto"
   ]
  }
 ],
 "metadata": {
  "kernelspec": {
   "display_name": "Python 3",
   "language": "python",
   "name": "python3"
  },
  "language_info": {
   "codemirror_mode": {
    "name": "ipython",
    "version": 3
   },
   "file_extension": ".py",
   "mimetype": "text/x-python",
   "name": "python",
   "nbconvert_exporter": "python",
   "pygments_lexer": "ipython3",
   "version": "3.6.4"
  }
 },
 "nbformat": 4,
 "nbformat_minor": 2
}
