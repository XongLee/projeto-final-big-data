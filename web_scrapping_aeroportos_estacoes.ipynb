{
 "cells": [
  {
   "cell_type": "code",
   "execution_count": 44,
   "metadata": {},
   "outputs": [],
   "source": [
    "#pip install beautifulsoup4\n",
    "from bs4 import BeautifulSoup"
   ]
  },
  {
   "cell_type": "code",
   "execution_count": 45,
   "metadata": {},
   "outputs": [],
   "source": [
    "html_file = open('html_geolocation_aeroportos.html', mode='r', encoding='utf-8')"
   ]
  },
  {
   "cell_type": "code",
   "execution_count": 46,
   "metadata": {},
   "outputs": [],
   "source": [
    "soup = BeautifulSoup(html_file, 'html.parser')"
   ]
  },
  {
   "cell_type": "code",
   "execution_count": 49,
   "metadata": {},
   "outputs": [],
   "source": [
    "def recuperar_tuplas_de_table(soup, caminho_para_trs_da_table):\n",
    "\n",
    "    tuplas = []\n",
    "\n",
    "    # BeautifulSoup provides nice ways to access the data in the parsed\n",
    "    # page. Here, we'll use the select method and pass it a CSS style\n",
    "    # selector to grab all the rows in the table (the rows contain the \n",
    "    # inmate names and ages).\n",
    "    headers = []\n",
    "    \n",
    "    for indice,linha_da_tabela in enumerate(soup.select(caminho_para_trs_da_table)):\n",
    "        \n",
    "        if indice == 0:\n",
    "            headers = linha_da_tabela.findAll('th')\n",
    "            \n",
    "        colunas = linha_da_tabela.findAll('td')\n",
    "\n",
    "        if len(colunas) > 0:\n",
    "\n",
    "            tupla = dict()\n",
    "            \n",
    "            for header, coluna in zip(headers, colunas):\n",
    "            \n",
    "                tupla[header] = coluna.strip\n",
    "\n",
    "            tuplas.append(tupla)\n",
    "\n",
    "            \n",
    "    return tuplas"
   ]
  },
  {
   "cell_type": "code",
   "execution_count": 50,
   "metadata": {},
   "outputs": [],
   "source": [
    "table = recuperar_tuplas_de_table(soup, caminho_para_trs_da_table='table.tabl tr')"
   ]
  },
  {
   "cell_type": "code",
   "execution_count": 52,
   "metadata": {},
   "outputs": [
    {
     "data": {
      "text/plain": [
       "{<th scope=\"col\">Altitude:</th>: None,\n",
       " <th scope=\"col\">Estação:</th>: None,\n",
       " <th scope=\"col\">ICAO:</th>: None,\n",
       " <th scope=\"col\">Latitude:</th>: None,\n",
       " <th scope=\"col\">Longitude:</th>: None,\n",
       " <th scope=\"col\">País:</th>: None,\n",
       " <th scope=\"col\">WMO:</th>: None}"
      ]
     },
     "execution_count": 52,
     "metadata": {},
     "output_type": "execute_result"
    }
   ],
   "source": [
    "table[1]"
   ]
  },
  {
   "cell_type": "code",
   "execution_count": null,
   "metadata": {},
   "outputs": [],
   "source": []
  }
 ],
 "metadata": {
  "kernelspec": {
   "display_name": "Python 3",
   "language": "python",
   "name": "python3"
  },
  "language_info": {
   "codemirror_mode": {
    "name": "ipython",
    "version": 3
   },
   "file_extension": ".py",
   "mimetype": "text/x-python",
   "name": "python",
   "nbconvert_exporter": "python",
   "pygments_lexer": "ipython3",
   "version": "3.6.4"
  }
 },
 "nbformat": 4,
 "nbformat_minor": 2
}
