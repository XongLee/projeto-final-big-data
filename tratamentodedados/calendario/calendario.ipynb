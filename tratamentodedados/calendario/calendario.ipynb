{
 "cells": [
  {
   "cell_type": "code",
   "execution_count": 47,
   "metadata": {},
   "outputs": [],
   "source": [
    "import time\n",
    "from datetime import date\n",
    "import pandas as pd\n",
    "import datetime as dt\n",
    "from datetime import timedelta  \n",
    "import glob\n",
    "import requests\n",
    "import json\n",
    "import datetime as dt\n",
    "import os"
   ]
  },
  {
   "cell_type": "code",
   "execution_count": 2,
   "metadata": {},
   "outputs": [],
   "source": [
    "today = date.fromtimestamp(time.time())\n",
    "dataIni = date(2015, 1, 1)"
   ]
  },
  {
   "cell_type": "code",
   "execution_count": 3,
   "metadata": {},
   "outputs": [
    {
     "data": {
      "text/plain": [
       "datetime.date(2015, 1, 1)"
      ]
     },
     "execution_count": 3,
     "metadata": {},
     "output_type": "execute_result"
    }
   ],
   "source": [
    "dataIni"
   ]
  },
  {
   "cell_type": "code",
   "execution_count": 4,
   "metadata": {},
   "outputs": [],
   "source": [
    "cols = [\"DATA\", \"DIA_SEMANA\"]\n",
    "dfCalendario = pd.DataFrame(columns = cols)"
   ]
  },
  {
   "cell_type": "code",
   "execution_count": 5,
   "metadata": {},
   "outputs": [],
   "source": [
    "def dia_semana(date):\n",
    "    datanum = date.weekday()\n",
    "    \n",
    "    if datanum == 6:\n",
    "        return \"Domingo\"\n",
    "    elif datanum == 0:\n",
    "        return \"Segunda-feira\"\n",
    "    elif datanum == 1:\n",
    "        return \"Terça-feira\"\n",
    "    elif datanum == 2:\n",
    "        return \"Quarta-feira\"\n",
    "    elif datanum == 3:\n",
    "        return \"Quinta-feira\"\n",
    "    elif datanum == 4:\n",
    "        return \"Sexta-feira\"\n",
    "    else:\n",
    "        return \"Sábado\"\n",
    "   "
   ]
  },
  {
   "cell_type": "code",
   "execution_count": 6,
   "metadata": {},
   "outputs": [],
   "source": [
    "lista_dias = []"
   ]
  },
  {
   "cell_type": "code",
   "execution_count": 7,
   "metadata": {},
   "outputs": [],
   "source": [
    "while dataIni <= date.today():\n",
    "    lista_dias.append({\"DIA_SEMANA\": dia_semana(dataIni), \"DATA\": dataIni})     \n",
    "    dataIni = dataIni + timedelta(days=1)"
   ]
  },
  {
   "cell_type": "code",
   "execution_count": 8,
   "metadata": {},
   "outputs": [],
   "source": [
    "df_datas = pd.DataFrame(lista_dias)"
   ]
  },
  {
   "cell_type": "code",
   "execution_count": 9,
   "metadata": {},
   "outputs": [
    {
     "data": {
      "text/plain": [
       "datetime.date"
      ]
     },
     "execution_count": 9,
     "metadata": {},
     "output_type": "execute_result"
    }
   ],
   "source": [
    "type(df_datas[\"DATA\"][0])"
   ]
  },
  {
   "cell_type": "code",
   "execution_count": 10,
   "metadata": {},
   "outputs": [
    {
     "data": {
      "text/html": [
       "<div>\n",
       "<style scoped>\n",
       "    .dataframe tbody tr th:only-of-type {\n",
       "        vertical-align: middle;\n",
       "    }\n",
       "\n",
       "    .dataframe tbody tr th {\n",
       "        vertical-align: top;\n",
       "    }\n",
       "\n",
       "    .dataframe thead th {\n",
       "        text-align: right;\n",
       "    }\n",
       "</style>\n",
       "<table border=\"1\" class=\"dataframe\">\n",
       "  <thead>\n",
       "    <tr style=\"text-align: right;\">\n",
       "      <th></th>\n",
       "      <th>DATA</th>\n",
       "      <th>DIA_SEMANA</th>\n",
       "    </tr>\n",
       "  </thead>\n",
       "  <tbody>\n",
       "    <tr>\n",
       "      <th>0</th>\n",
       "      <td>2015-01-01</td>\n",
       "      <td>Quinta-feira</td>\n",
       "    </tr>\n",
       "    <tr>\n",
       "      <th>1</th>\n",
       "      <td>2015-01-02</td>\n",
       "      <td>Sexta-feira</td>\n",
       "    </tr>\n",
       "    <tr>\n",
       "      <th>2</th>\n",
       "      <td>2015-01-03</td>\n",
       "      <td>Sábado</td>\n",
       "    </tr>\n",
       "    <tr>\n",
       "      <th>3</th>\n",
       "      <td>2015-01-04</td>\n",
       "      <td>Domingo</td>\n",
       "    </tr>\n",
       "    <tr>\n",
       "      <th>4</th>\n",
       "      <td>2015-01-05</td>\n",
       "      <td>Segunda-feira</td>\n",
       "    </tr>\n",
       "    <tr>\n",
       "      <th>5</th>\n",
       "      <td>2015-01-06</td>\n",
       "      <td>Terça-feira</td>\n",
       "    </tr>\n",
       "    <tr>\n",
       "      <th>6</th>\n",
       "      <td>2015-01-07</td>\n",
       "      <td>Quarta-feira</td>\n",
       "    </tr>\n",
       "    <tr>\n",
       "      <th>7</th>\n",
       "      <td>2015-01-08</td>\n",
       "      <td>Quinta-feira</td>\n",
       "    </tr>\n",
       "    <tr>\n",
       "      <th>8</th>\n",
       "      <td>2015-01-09</td>\n",
       "      <td>Sexta-feira</td>\n",
       "    </tr>\n",
       "    <tr>\n",
       "      <th>9</th>\n",
       "      <td>2015-01-10</td>\n",
       "      <td>Sábado</td>\n",
       "    </tr>\n",
       "    <tr>\n",
       "      <th>10</th>\n",
       "      <td>2015-01-11</td>\n",
       "      <td>Domingo</td>\n",
       "    </tr>\n",
       "    <tr>\n",
       "      <th>11</th>\n",
       "      <td>2015-01-12</td>\n",
       "      <td>Segunda-feira</td>\n",
       "    </tr>\n",
       "    <tr>\n",
       "      <th>12</th>\n",
       "      <td>2015-01-13</td>\n",
       "      <td>Terça-feira</td>\n",
       "    </tr>\n",
       "    <tr>\n",
       "      <th>13</th>\n",
       "      <td>2015-01-14</td>\n",
       "      <td>Quarta-feira</td>\n",
       "    </tr>\n",
       "    <tr>\n",
       "      <th>14</th>\n",
       "      <td>2015-01-15</td>\n",
       "      <td>Quinta-feira</td>\n",
       "    </tr>\n",
       "    <tr>\n",
       "      <th>15</th>\n",
       "      <td>2015-01-16</td>\n",
       "      <td>Sexta-feira</td>\n",
       "    </tr>\n",
       "    <tr>\n",
       "      <th>16</th>\n",
       "      <td>2015-01-17</td>\n",
       "      <td>Sábado</td>\n",
       "    </tr>\n",
       "    <tr>\n",
       "      <th>17</th>\n",
       "      <td>2015-01-18</td>\n",
       "      <td>Domingo</td>\n",
       "    </tr>\n",
       "    <tr>\n",
       "      <th>18</th>\n",
       "      <td>2015-01-19</td>\n",
       "      <td>Segunda-feira</td>\n",
       "    </tr>\n",
       "    <tr>\n",
       "      <th>19</th>\n",
       "      <td>2015-01-20</td>\n",
       "      <td>Terça-feira</td>\n",
       "    </tr>\n",
       "    <tr>\n",
       "      <th>20</th>\n",
       "      <td>2015-01-21</td>\n",
       "      <td>Quarta-feira</td>\n",
       "    </tr>\n",
       "    <tr>\n",
       "      <th>21</th>\n",
       "      <td>2015-01-22</td>\n",
       "      <td>Quinta-feira</td>\n",
       "    </tr>\n",
       "    <tr>\n",
       "      <th>22</th>\n",
       "      <td>2015-01-23</td>\n",
       "      <td>Sexta-feira</td>\n",
       "    </tr>\n",
       "    <tr>\n",
       "      <th>23</th>\n",
       "      <td>2015-01-24</td>\n",
       "      <td>Sábado</td>\n",
       "    </tr>\n",
       "    <tr>\n",
       "      <th>24</th>\n",
       "      <td>2015-01-25</td>\n",
       "      <td>Domingo</td>\n",
       "    </tr>\n",
       "    <tr>\n",
       "      <th>25</th>\n",
       "      <td>2015-01-26</td>\n",
       "      <td>Segunda-feira</td>\n",
       "    </tr>\n",
       "    <tr>\n",
       "      <th>26</th>\n",
       "      <td>2015-01-27</td>\n",
       "      <td>Terça-feira</td>\n",
       "    </tr>\n",
       "    <tr>\n",
       "      <th>27</th>\n",
       "      <td>2015-01-28</td>\n",
       "      <td>Quarta-feira</td>\n",
       "    </tr>\n",
       "    <tr>\n",
       "      <th>28</th>\n",
       "      <td>2015-01-29</td>\n",
       "      <td>Quinta-feira</td>\n",
       "    </tr>\n",
       "    <tr>\n",
       "      <th>29</th>\n",
       "      <td>2015-01-30</td>\n",
       "      <td>Sexta-feira</td>\n",
       "    </tr>\n",
       "    <tr>\n",
       "      <th>...</th>\n",
       "      <td>...</td>\n",
       "      <td>...</td>\n",
       "    </tr>\n",
       "    <tr>\n",
       "      <th>1227</th>\n",
       "      <td>2018-05-12</td>\n",
       "      <td>Sábado</td>\n",
       "    </tr>\n",
       "    <tr>\n",
       "      <th>1228</th>\n",
       "      <td>2018-05-13</td>\n",
       "      <td>Domingo</td>\n",
       "    </tr>\n",
       "    <tr>\n",
       "      <th>1229</th>\n",
       "      <td>2018-05-14</td>\n",
       "      <td>Segunda-feira</td>\n",
       "    </tr>\n",
       "    <tr>\n",
       "      <th>1230</th>\n",
       "      <td>2018-05-15</td>\n",
       "      <td>Terça-feira</td>\n",
       "    </tr>\n",
       "    <tr>\n",
       "      <th>1231</th>\n",
       "      <td>2018-05-16</td>\n",
       "      <td>Quarta-feira</td>\n",
       "    </tr>\n",
       "    <tr>\n",
       "      <th>1232</th>\n",
       "      <td>2018-05-17</td>\n",
       "      <td>Quinta-feira</td>\n",
       "    </tr>\n",
       "    <tr>\n",
       "      <th>1233</th>\n",
       "      <td>2018-05-18</td>\n",
       "      <td>Sexta-feira</td>\n",
       "    </tr>\n",
       "    <tr>\n",
       "      <th>1234</th>\n",
       "      <td>2018-05-19</td>\n",
       "      <td>Sábado</td>\n",
       "    </tr>\n",
       "    <tr>\n",
       "      <th>1235</th>\n",
       "      <td>2018-05-20</td>\n",
       "      <td>Domingo</td>\n",
       "    </tr>\n",
       "    <tr>\n",
       "      <th>1236</th>\n",
       "      <td>2018-05-21</td>\n",
       "      <td>Segunda-feira</td>\n",
       "    </tr>\n",
       "    <tr>\n",
       "      <th>1237</th>\n",
       "      <td>2018-05-22</td>\n",
       "      <td>Terça-feira</td>\n",
       "    </tr>\n",
       "    <tr>\n",
       "      <th>1238</th>\n",
       "      <td>2018-05-23</td>\n",
       "      <td>Quarta-feira</td>\n",
       "    </tr>\n",
       "    <tr>\n",
       "      <th>1239</th>\n",
       "      <td>2018-05-24</td>\n",
       "      <td>Quinta-feira</td>\n",
       "    </tr>\n",
       "    <tr>\n",
       "      <th>1240</th>\n",
       "      <td>2018-05-25</td>\n",
       "      <td>Sexta-feira</td>\n",
       "    </tr>\n",
       "    <tr>\n",
       "      <th>1241</th>\n",
       "      <td>2018-05-26</td>\n",
       "      <td>Sábado</td>\n",
       "    </tr>\n",
       "    <tr>\n",
       "      <th>1242</th>\n",
       "      <td>2018-05-27</td>\n",
       "      <td>Domingo</td>\n",
       "    </tr>\n",
       "    <tr>\n",
       "      <th>1243</th>\n",
       "      <td>2018-05-28</td>\n",
       "      <td>Segunda-feira</td>\n",
       "    </tr>\n",
       "    <tr>\n",
       "      <th>1244</th>\n",
       "      <td>2018-05-29</td>\n",
       "      <td>Terça-feira</td>\n",
       "    </tr>\n",
       "    <tr>\n",
       "      <th>1245</th>\n",
       "      <td>2018-05-30</td>\n",
       "      <td>Quarta-feira</td>\n",
       "    </tr>\n",
       "    <tr>\n",
       "      <th>1246</th>\n",
       "      <td>2018-05-31</td>\n",
       "      <td>Quinta-feira</td>\n",
       "    </tr>\n",
       "    <tr>\n",
       "      <th>1247</th>\n",
       "      <td>2018-06-01</td>\n",
       "      <td>Sexta-feira</td>\n",
       "    </tr>\n",
       "    <tr>\n",
       "      <th>1248</th>\n",
       "      <td>2018-06-02</td>\n",
       "      <td>Sábado</td>\n",
       "    </tr>\n",
       "    <tr>\n",
       "      <th>1249</th>\n",
       "      <td>2018-06-03</td>\n",
       "      <td>Domingo</td>\n",
       "    </tr>\n",
       "    <tr>\n",
       "      <th>1250</th>\n",
       "      <td>2018-06-04</td>\n",
       "      <td>Segunda-feira</td>\n",
       "    </tr>\n",
       "    <tr>\n",
       "      <th>1251</th>\n",
       "      <td>2018-06-05</td>\n",
       "      <td>Terça-feira</td>\n",
       "    </tr>\n",
       "    <tr>\n",
       "      <th>1252</th>\n",
       "      <td>2018-06-06</td>\n",
       "      <td>Quarta-feira</td>\n",
       "    </tr>\n",
       "    <tr>\n",
       "      <th>1253</th>\n",
       "      <td>2018-06-07</td>\n",
       "      <td>Quinta-feira</td>\n",
       "    </tr>\n",
       "    <tr>\n",
       "      <th>1254</th>\n",
       "      <td>2018-06-08</td>\n",
       "      <td>Sexta-feira</td>\n",
       "    </tr>\n",
       "    <tr>\n",
       "      <th>1255</th>\n",
       "      <td>2018-06-09</td>\n",
       "      <td>Sábado</td>\n",
       "    </tr>\n",
       "    <tr>\n",
       "      <th>1256</th>\n",
       "      <td>2018-06-10</td>\n",
       "      <td>Domingo</td>\n",
       "    </tr>\n",
       "  </tbody>\n",
       "</table>\n",
       "<p>1257 rows × 2 columns</p>\n",
       "</div>"
      ],
      "text/plain": [
       "            DATA     DIA_SEMANA\n",
       "0     2015-01-01   Quinta-feira\n",
       "1     2015-01-02    Sexta-feira\n",
       "2     2015-01-03         Sábado\n",
       "3     2015-01-04        Domingo\n",
       "4     2015-01-05  Segunda-feira\n",
       "5     2015-01-06    Terça-feira\n",
       "6     2015-01-07   Quarta-feira\n",
       "7     2015-01-08   Quinta-feira\n",
       "8     2015-01-09    Sexta-feira\n",
       "9     2015-01-10         Sábado\n",
       "10    2015-01-11        Domingo\n",
       "11    2015-01-12  Segunda-feira\n",
       "12    2015-01-13    Terça-feira\n",
       "13    2015-01-14   Quarta-feira\n",
       "14    2015-01-15   Quinta-feira\n",
       "15    2015-01-16    Sexta-feira\n",
       "16    2015-01-17         Sábado\n",
       "17    2015-01-18        Domingo\n",
       "18    2015-01-19  Segunda-feira\n",
       "19    2015-01-20    Terça-feira\n",
       "20    2015-01-21   Quarta-feira\n",
       "21    2015-01-22   Quinta-feira\n",
       "22    2015-01-23    Sexta-feira\n",
       "23    2015-01-24         Sábado\n",
       "24    2015-01-25        Domingo\n",
       "25    2015-01-26  Segunda-feira\n",
       "26    2015-01-27    Terça-feira\n",
       "27    2015-01-28   Quarta-feira\n",
       "28    2015-01-29   Quinta-feira\n",
       "29    2015-01-30    Sexta-feira\n",
       "...          ...            ...\n",
       "1227  2018-05-12         Sábado\n",
       "1228  2018-05-13        Domingo\n",
       "1229  2018-05-14  Segunda-feira\n",
       "1230  2018-05-15    Terça-feira\n",
       "1231  2018-05-16   Quarta-feira\n",
       "1232  2018-05-17   Quinta-feira\n",
       "1233  2018-05-18    Sexta-feira\n",
       "1234  2018-05-19         Sábado\n",
       "1235  2018-05-20        Domingo\n",
       "1236  2018-05-21  Segunda-feira\n",
       "1237  2018-05-22    Terça-feira\n",
       "1238  2018-05-23   Quarta-feira\n",
       "1239  2018-05-24   Quinta-feira\n",
       "1240  2018-05-25    Sexta-feira\n",
       "1241  2018-05-26         Sábado\n",
       "1242  2018-05-27        Domingo\n",
       "1243  2018-05-28  Segunda-feira\n",
       "1244  2018-05-29    Terça-feira\n",
       "1245  2018-05-30   Quarta-feira\n",
       "1246  2018-05-31   Quinta-feira\n",
       "1247  2018-06-01    Sexta-feira\n",
       "1248  2018-06-02         Sábado\n",
       "1249  2018-06-03        Domingo\n",
       "1250  2018-06-04  Segunda-feira\n",
       "1251  2018-06-05    Terça-feira\n",
       "1252  2018-06-06   Quarta-feira\n",
       "1253  2018-06-07   Quinta-feira\n",
       "1254  2018-06-08    Sexta-feira\n",
       "1255  2018-06-09         Sábado\n",
       "1256  2018-06-10        Domingo\n",
       "\n",
       "[1257 rows x 2 columns]"
      ]
     },
     "execution_count": 10,
     "metadata": {},
     "output_type": "execute_result"
    }
   ],
   "source": [
    "df_datas"
   ]
  },
  {
   "cell_type": "code",
   "execution_count": 11,
   "metadata": {},
   "outputs": [],
   "source": [
    "df_datas.to_csv(\"DATAS.csv\", sep = ';', index = False)"
   ]
  },
  {
   "cell_type": "code",
   "execution_count": 12,
   "metadata": {},
   "outputs": [],
   "source": [
    "dict_cidades =  {'Cidade': 'SAO_PAULO', 'Estado': 'SP'}"
   ]
  },
  {
   "cell_type": "code",
   "execution_count": 13,
   "metadata": {},
   "outputs": [
    {
     "data": {
      "text/plain": [
       "'SAO_PAULO'"
      ]
     },
     "execution_count": 13,
     "metadata": {},
     "output_type": "execute_result"
    }
   ],
   "source": [
    "dict_cidades[\"Cidade\"]"
   ]
  },
  {
   "cell_type": "code",
   "execution_count": 14,
   "metadata": {},
   "outputs": [],
   "source": [
    "df_datas['Cidade'] = dict_cidades[\"Cidade\"]"
   ]
  },
  {
   "cell_type": "code",
   "execution_count": 15,
   "metadata": {},
   "outputs": [],
   "source": [
    "df_datas['Estado'] = dict_cidades[\"Estado\"]"
   ]
  },
  {
   "cell_type": "code",
   "execution_count": null,
   "metadata": {},
   "outputs": [],
   "source": []
  },
  {
   "cell_type": "code",
   "execution_count": 21,
   "metadata": {},
   "outputs": [],
   "source": [
    "df_cidades_uf = pd.read_csv(filepath_or_buffer='cidadade_x_icao.csv', sep=';')"
   ]
  },
  {
   "cell_type": "code",
   "execution_count": 24,
   "metadata": {},
   "outputs": [
    {
     "data": {
      "text/plain": [
       "Index(['id', 'cod_aero_org', 'Cidade', 'UF', 'País', 'qtd'], dtype='object')"
      ]
     },
     "execution_count": 24,
     "metadata": {},
     "output_type": "execute_result"
    }
   ],
   "source": [
    "df_cidades_uf.columns"
   ]
  },
  {
   "cell_type": "code",
   "execution_count": 33,
   "metadata": {},
   "outputs": [],
   "source": [
    "#Recuperar 80 primeiras cidades em tuplas\n",
    "quantidade_nao_repetidos = 0\n",
    "threshold = 80\n",
    "tuplas_cidade_estado = []\n",
    "\n",
    "for index, cidade_uf in df_cidades_uf.iterrows():\n",
    "    tupla_cidade_estado = (cidade_uf['Cidade'], cidade_uf['UF'])\n",
    "    if tupla_cidade_estado not in tuplas_cidade_estado and quantidade_nao_repetidos < threshold:\n",
    "        tuplas_cidade_estado.append(tupla_cidade_estado)\n",
    "        quantidade_nao_repetidos = quantidade_nao_repetidos + 1\n",
    "    \n",
    "    \n",
    "    \n",
    "    \n"
   ]
  },
  {
   "cell_type": "code",
   "execution_count": 35,
   "metadata": {},
   "outputs": [
    {
     "data": {
      "text/plain": [
       "80"
      ]
     },
     "execution_count": 35,
     "metadata": {},
     "output_type": "execute_result"
    }
   ],
   "source": [
    "len(tuplas_cidade_estado)"
   ]
  },
  {
   "cell_type": "code",
   "execution_count": null,
   "metadata": {},
   "outputs": [],
   "source": []
  },
  {
   "cell_type": "code",
   "execution_count": 18,
   "metadata": {},
   "outputs": [],
   "source": [
    "## ACESSANDO A API DOS FERIADOS"
   ]
  },
  {
   "cell_type": "code",
   "execution_count": 37,
   "metadata": {},
   "outputs": [],
   "source": [
    "anos = (2015,2016,2017,2018)\n",
    "cidades_uf = tuplas_cidade_estado"
   ]
  },
  {
   "cell_type": "code",
   "execution_count": 45,
   "metadata": {},
   "outputs": [
    {
     "name": "stdout",
     "output_type": "stream",
     "text": [
      "Cidade: GUARULHOS - UF: SP\n",
      "Cidade: GUARULHOS - UF: SP\n",
      "Cidade: GUARULHOS - UF: SP\n",
      "Cidade: GUARULHOS - UF: SP\n",
      "Cidade: SAO_PAULO - UF: SP\n",
      "Cidade: SAO_PAULO - UF: SP\n",
      "Cidade: SAO_PAULO - UF: SP\n",
      "Cidade: SAO_PAULO - UF: SP\n",
      "Cidade: BRASILIA - UF: DF\n",
      "Cidade: BRASILIA - UF: DF\n",
      "Cidade: BRASILIA - UF: DF\n",
      "Cidade: BRASILIA - UF: DF\n",
      "Cidade: CAMPINAS - UF: SP\n",
      "Cidade: CAMPINAS - UF: SP\n",
      "Cidade: CAMPINAS - UF: SP\n",
      "Cidade: CAMPINAS - UF: SP\n",
      "Cidade: RIO_DE_JANEIRO - UF: RJ\n",
      "Cidade: RIO_DE_JANEIRO - UF: RJ\n",
      "Cidade: RIO_DE_JANEIRO - UF: RJ\n",
      "Cidade: RIO_DE_JANEIRO - UF: RJ\n",
      "Cidade: CONFINS - UF: MG\n",
      "Cidade: CONFINS - UF: MG\n",
      "Cidade: CONFINS - UF: MG\n",
      "Cidade: CONFINS - UF: MG\n",
      "Cidade: SAO_JOSE_DOS_PINHAIS - UF: PR\n",
      "Cidade: SAO_JOSE_DOS_PINHAIS - UF: PR\n",
      "Cidade: SAO_JOSE_DOS_PINHAIS - UF: PR\n",
      "Cidade: SAO_JOSE_DOS_PINHAIS - UF: PR\n",
      "Cidade: PORTO_ALEGRE - UF: RS\n",
      "Cidade: PORTO_ALEGRE - UF: RS\n",
      "Cidade: PORTO_ALEGRE - UF: RS\n",
      "Cidade: PORTO_ALEGRE - UF: RS\n",
      "Cidade: SALVADOR - UF: BA\n",
      "Cidade: SALVADOR - UF: BA\n",
      "Cidade: SALVADOR - UF: BA\n",
      "Cidade: SALVADOR - UF: BA\n",
      "Cidade: RECIFE - UF: PE\n",
      "Cidade: RECIFE - UF: PE\n",
      "Cidade: RECIFE - UF: PE\n",
      "Cidade: RECIFE - UF: PE\n",
      "Cidade: FORTALEZA - UF: CE\n",
      "Cidade: FORTALEZA - UF: CE\n",
      "Cidade: FORTALEZA - UF: CE\n",
      "Cidade: FORTALEZA - UF: CE\n",
      "Cidade: MANAUS - UF: AM\n",
      "Cidade: MANAUS - UF: AM\n",
      "Cidade: MANAUS - UF: AM\n",
      "Cidade: MANAUS - UF: AM\n",
      "Cidade: BELEM - UF: PA\n",
      "Cidade: BELEM - UF: PA\n",
      "Cidade: BELEM - UF: PA\n",
      "Cidade: BELEM - UF: PA\n",
      "Cidade: FLORIANOPOLIS - UF: SC\n",
      "Cidade: FLORIANOPOLIS - UF: SC\n",
      "Cidade: FLORIANOPOLIS - UF: SC\n",
      "Cidade: FLORIANOPOLIS - UF: SC\n",
      "Cidade: GOIANIA - UF: GO\n",
      "Cidade: GOIANIA - UF: GO\n",
      "Cidade: GOIANIA - UF: GO\n",
      "Cidade: GOIANIA - UF: GO\n",
      "Cidade: VARZEA_GRANDE - UF: MT\n",
      "Cidade: VARZEA_GRANDE - UF: MT\n",
      "Cidade: VARZEA_GRANDE - UF: MT\n",
      "Cidade: VARZEA_GRANDE - UF: MT\n",
      "Cidade: VITORIA - UF: ES\n",
      "Cidade: VITORIA - UF: ES\n",
      "Cidade: VITORIA - UF: ES\n",
      "Cidade: VITORIA - UF: ES\n",
      "Cidade: SAO_GONCALO_DO_AMARANTE - UF: RN\n",
      "Cidade: SAO_GONCALO_DO_AMARANTE - UF: RN\n",
      "Cidade: SAO_GONCALO_DO_AMARANTE - UF: RN\n",
      "Cidade: SAO_GONCALO_DO_AMARANTE - UF: RN\n",
      "Cidade: RIBEIRAO_PRETO - UF: SP\n",
      "Cidade: RIBEIRAO_PRETO - UF: SP\n",
      "Cidade: RIBEIRAO_PRETO - UF: SP\n",
      "Cidade: RIBEIRAO_PRETO - UF: SP\n",
      "Cidade: FOZ_DO_IGUACU - UF: PR\n",
      "Cidade: FOZ_DO_IGUACU - UF: PR\n",
      "Cidade: FOZ_DO_IGUACU - UF: PR\n",
      "Cidade: FOZ_DO_IGUACU - UF: PR\n",
      "Cidade: SAO_LUIS - UF: MA\n",
      "Cidade: SAO_LUIS - UF: MA\n",
      "Cidade: SAO_LUIS - UF: MA\n",
      "Cidade: SAO_LUIS - UF: MA\n",
      "Cidade: RIO_LARGO - UF: AL\n",
      "Cidade: RIO_LARGO - UF: AL\n",
      "Cidade: RIO_LARGO - UF: AL\n",
      "Cidade: RIO_LARGO - UF: AL\n",
      "Cidade: NAVEGANTES - UF: SC\n",
      "Cidade: NAVEGANTES - UF: SC\n",
      "Cidade: NAVEGANTES - UF: SC\n",
      "Cidade: NAVEGANTES - UF: SC\n",
      "Cidade: PORTO_SEGURO - UF: BA\n",
      "Cidade: PORTO_SEGURO - UF: BA\n",
      "Cidade: PORTO_SEGURO - UF: BA\n",
      "Cidade: PORTO_SEGURO - UF: BA\n",
      "Cidade: CAMPO_GRANDE - UF: MS\n",
      "Cidade: CAMPO_GRANDE - UF: MS\n",
      "Cidade: CAMPO_GRANDE - UF: MS\n",
      "Cidade: CAMPO_GRANDE - UF: MS\n",
      "Cidade: UBERLANDIA - UF: MG\n",
      "Cidade: UBERLANDIA - UF: MG\n",
      "Cidade: UBERLANDIA - UF: MG\n",
      "Cidade: UBERLANDIA - UF: MG\n",
      "Cidade: LONDRINA - UF: PR\n",
      "Cidade: LONDRINA - UF: PR\n",
      "Cidade: LONDRINA - UF: PR\n",
      "Cidade: LONDRINA - UF: PR\n",
      "Cidade: BAYEUX - UF: PB\n",
      "Cidade: BAYEUX - UF: PB\n",
      "Cidade: BAYEUX - UF: PB\n",
      "Cidade: BAYEUX - UF: PB\n",
      "Cidade: TERESINA - UF: PI\n",
      "Cidade: TERESINA - UF: PI\n",
      "Cidade: TERESINA - UF: PI\n",
      "Cidade: TERESINA - UF: PI\n",
      "Cidade: ARACAJU - UF: SE\n",
      "Cidade: ARACAJU - UF: SE\n",
      "Cidade: ARACAJU - UF: SE\n",
      "Cidade: ARACAJU - UF: SE\n",
      "Cidade: MARINGA - UF: PR\n",
      "Cidade: MARINGA - UF: PR\n",
      "Cidade: MARINGA - UF: PR\n",
      "Cidade: MARINGA - UF: PR\n",
      "Cidade: PORTO_VELHO - UF: RO\n",
      "Cidade: PORTO_VELHO - UF: RO\n",
      "Cidade: PORTO_VELHO - UF: RO\n",
      "Cidade: PORTO_VELHO - UF: RO\n"
     ]
    },
    {
     "ename": "NameError",
     "evalue": "name 'e' is not defined",
     "output_type": "error",
     "traceback": [
      "\u001b[1;31m---------------------------------------------------------------------------\u001b[0m",
      "\u001b[1;31mHTTPError\u001b[0m                                 Traceback (most recent call last)",
      "\u001b[1;32m<ipython-input-45-fdf3f19b825c>\u001b[0m in \u001b[0;36m<module>\u001b[1;34m()\u001b[0m\n\u001b[0;32m     11\u001b[0m             \u001b[0mprint\u001b[0m\u001b[1;33m(\u001b[0m\u001b[1;34m'Cidade: {} - UF: {}'\u001b[0m\u001b[1;33m.\u001b[0m\u001b[0mformat\u001b[0m\u001b[1;33m(\u001b[0m\u001b[0mcidade\u001b[0m\u001b[1;33m,\u001b[0m\u001b[0muf\u001b[0m\u001b[1;33m)\u001b[0m\u001b[1;33m)\u001b[0m\u001b[1;33m\u001b[0m\u001b[0m\n\u001b[1;32m---> 12\u001b[1;33m             \u001b[0mdataframes_retorno_api\u001b[0m\u001b[1;33m[\u001b[0m\u001b[0mchave\u001b[0m\u001b[1;33m]\u001b[0m \u001b[1;33m=\u001b[0m \u001b[0mpd\u001b[0m\u001b[1;33m.\u001b[0m\u001b[0mread_json\u001b[0m\u001b[1;33m(\u001b[0m\u001b[1;34m\"https://api.calendario.com.br/?json=true&ano={}&estado={}&cidade={}&token={}\"\u001b[0m\u001b[1;33m.\u001b[0m\u001b[0mformat\u001b[0m\u001b[1;33m(\u001b[0m\u001b[0mano\u001b[0m\u001b[1;33m,\u001b[0m \u001b[0muf\u001b[0m\u001b[1;33m,\u001b[0m \u001b[0mcidade\u001b[0m\u001b[1;33m,\u001b[0m \u001b[0mtoken\u001b[0m\u001b[1;33m)\u001b[0m\u001b[1;33m)\u001b[0m\u001b[1;33m\u001b[0m\u001b[0m\n\u001b[0m\u001b[0;32m     13\u001b[0m         \u001b[1;32mexcept\u001b[0m \u001b[0me\u001b[0m\u001b[1;33m:\u001b[0m\u001b[1;33m\u001b[0m\u001b[0m\n",
      "\u001b[1;32mC:\\ProgramData\\Anaconda3\\lib\\site-packages\\pandas\\io\\json\\json.py\u001b[0m in \u001b[0;36mread_json\u001b[1;34m(path_or_buf, orient, typ, dtype, convert_axes, convert_dates, keep_default_dates, numpy, precise_float, date_unit, encoding, lines, chunksize, compression)\u001b[0m\n\u001b[0;32m    351\u001b[0m     filepath_or_buffer, _, compression = get_filepath_or_buffer(\n\u001b[1;32m--> 352\u001b[1;33m         \u001b[0mpath_or_buf\u001b[0m\u001b[1;33m,\u001b[0m \u001b[0mencoding\u001b[0m\u001b[1;33m=\u001b[0m\u001b[0mencoding\u001b[0m\u001b[1;33m,\u001b[0m \u001b[0mcompression\u001b[0m\u001b[1;33m=\u001b[0m\u001b[0mcompression\u001b[0m\u001b[1;33m,\u001b[0m\u001b[1;33m\u001b[0m\u001b[0m\n\u001b[0m\u001b[0;32m    353\u001b[0m     )\n",
      "\u001b[1;32mC:\\ProgramData\\Anaconda3\\lib\\site-packages\\pandas\\io\\common.py\u001b[0m in \u001b[0;36mget_filepath_or_buffer\u001b[1;34m(filepath_or_buffer, encoding, compression)\u001b[0m\n\u001b[0;32m    189\u001b[0m     \u001b[1;32mif\u001b[0m \u001b[0m_is_url\u001b[0m\u001b[1;33m(\u001b[0m\u001b[0mfilepath_or_buffer\u001b[0m\u001b[1;33m)\u001b[0m\u001b[1;33m:\u001b[0m\u001b[1;33m\u001b[0m\u001b[0m\n\u001b[1;32m--> 190\u001b[1;33m         \u001b[0mreq\u001b[0m \u001b[1;33m=\u001b[0m \u001b[0m_urlopen\u001b[0m\u001b[1;33m(\u001b[0m\u001b[0mfilepath_or_buffer\u001b[0m\u001b[1;33m)\u001b[0m\u001b[1;33m\u001b[0m\u001b[0m\n\u001b[0m\u001b[0;32m    191\u001b[0m         \u001b[0mcontent_encoding\u001b[0m \u001b[1;33m=\u001b[0m \u001b[0mreq\u001b[0m\u001b[1;33m.\u001b[0m\u001b[0mheaders\u001b[0m\u001b[1;33m.\u001b[0m\u001b[0mget\u001b[0m\u001b[1;33m(\u001b[0m\u001b[1;34m'Content-Encoding'\u001b[0m\u001b[1;33m,\u001b[0m \u001b[1;32mNone\u001b[0m\u001b[1;33m)\u001b[0m\u001b[1;33m\u001b[0m\u001b[0m\n",
      "\u001b[1;32mC:\\ProgramData\\Anaconda3\\lib\\urllib\\request.py\u001b[0m in \u001b[0;36murlopen\u001b[1;34m(url, data, timeout, cafile, capath, cadefault, context)\u001b[0m\n\u001b[0;32m    222\u001b[0m         \u001b[0mopener\u001b[0m \u001b[1;33m=\u001b[0m \u001b[0m_opener\u001b[0m\u001b[1;33m\u001b[0m\u001b[0m\n\u001b[1;32m--> 223\u001b[1;33m     \u001b[1;32mreturn\u001b[0m \u001b[0mopener\u001b[0m\u001b[1;33m.\u001b[0m\u001b[0mopen\u001b[0m\u001b[1;33m(\u001b[0m\u001b[0murl\u001b[0m\u001b[1;33m,\u001b[0m \u001b[0mdata\u001b[0m\u001b[1;33m,\u001b[0m \u001b[0mtimeout\u001b[0m\u001b[1;33m)\u001b[0m\u001b[1;33m\u001b[0m\u001b[0m\n\u001b[0m\u001b[0;32m    224\u001b[0m \u001b[1;33m\u001b[0m\u001b[0m\n",
      "\u001b[1;32mC:\\ProgramData\\Anaconda3\\lib\\urllib\\request.py\u001b[0m in \u001b[0;36mopen\u001b[1;34m(self, fullurl, data, timeout)\u001b[0m\n\u001b[0;32m    531\u001b[0m             \u001b[0mmeth\u001b[0m \u001b[1;33m=\u001b[0m \u001b[0mgetattr\u001b[0m\u001b[1;33m(\u001b[0m\u001b[0mprocessor\u001b[0m\u001b[1;33m,\u001b[0m \u001b[0mmeth_name\u001b[0m\u001b[1;33m)\u001b[0m\u001b[1;33m\u001b[0m\u001b[0m\n\u001b[1;32m--> 532\u001b[1;33m             \u001b[0mresponse\u001b[0m \u001b[1;33m=\u001b[0m \u001b[0mmeth\u001b[0m\u001b[1;33m(\u001b[0m\u001b[0mreq\u001b[0m\u001b[1;33m,\u001b[0m \u001b[0mresponse\u001b[0m\u001b[1;33m)\u001b[0m\u001b[1;33m\u001b[0m\u001b[0m\n\u001b[0m\u001b[0;32m    533\u001b[0m \u001b[1;33m\u001b[0m\u001b[0m\n",
      "\u001b[1;32mC:\\ProgramData\\Anaconda3\\lib\\urllib\\request.py\u001b[0m in \u001b[0;36mhttp_response\u001b[1;34m(self, request, response)\u001b[0m\n\u001b[0;32m    641\u001b[0m             response = self.parent.error(\n\u001b[1;32m--> 642\u001b[1;33m                 'http', request, response, code, msg, hdrs)\n\u001b[0m\u001b[0;32m    643\u001b[0m \u001b[1;33m\u001b[0m\u001b[0m\n",
      "\u001b[1;32mC:\\ProgramData\\Anaconda3\\lib\\urllib\\request.py\u001b[0m in \u001b[0;36merror\u001b[1;34m(self, proto, *args)\u001b[0m\n\u001b[0;32m    569\u001b[0m             \u001b[0margs\u001b[0m \u001b[1;33m=\u001b[0m \u001b[1;33m(\u001b[0m\u001b[0mdict\u001b[0m\u001b[1;33m,\u001b[0m \u001b[1;34m'default'\u001b[0m\u001b[1;33m,\u001b[0m \u001b[1;34m'http_error_default'\u001b[0m\u001b[1;33m)\u001b[0m \u001b[1;33m+\u001b[0m \u001b[0morig_args\u001b[0m\u001b[1;33m\u001b[0m\u001b[0m\n\u001b[1;32m--> 570\u001b[1;33m             \u001b[1;32mreturn\u001b[0m \u001b[0mself\u001b[0m\u001b[1;33m.\u001b[0m\u001b[0m_call_chain\u001b[0m\u001b[1;33m(\u001b[0m\u001b[1;33m*\u001b[0m\u001b[0margs\u001b[0m\u001b[1;33m)\u001b[0m\u001b[1;33m\u001b[0m\u001b[0m\n\u001b[0m\u001b[0;32m    571\u001b[0m \u001b[1;33m\u001b[0m\u001b[0m\n",
      "\u001b[1;32mC:\\ProgramData\\Anaconda3\\lib\\urllib\\request.py\u001b[0m in \u001b[0;36m_call_chain\u001b[1;34m(self, chain, kind, meth_name, *args)\u001b[0m\n\u001b[0;32m    503\u001b[0m             \u001b[0mfunc\u001b[0m \u001b[1;33m=\u001b[0m \u001b[0mgetattr\u001b[0m\u001b[1;33m(\u001b[0m\u001b[0mhandler\u001b[0m\u001b[1;33m,\u001b[0m \u001b[0mmeth_name\u001b[0m\u001b[1;33m)\u001b[0m\u001b[1;33m\u001b[0m\u001b[0m\n\u001b[1;32m--> 504\u001b[1;33m             \u001b[0mresult\u001b[0m \u001b[1;33m=\u001b[0m \u001b[0mfunc\u001b[0m\u001b[1;33m(\u001b[0m\u001b[1;33m*\u001b[0m\u001b[0margs\u001b[0m\u001b[1;33m)\u001b[0m\u001b[1;33m\u001b[0m\u001b[0m\n\u001b[0m\u001b[0;32m    505\u001b[0m             \u001b[1;32mif\u001b[0m \u001b[0mresult\u001b[0m \u001b[1;32mis\u001b[0m \u001b[1;32mnot\u001b[0m \u001b[1;32mNone\u001b[0m\u001b[1;33m:\u001b[0m\u001b[1;33m\u001b[0m\u001b[0m\n",
      "\u001b[1;32mC:\\ProgramData\\Anaconda3\\lib\\urllib\\request.py\u001b[0m in \u001b[0;36mhttp_error_default\u001b[1;34m(self, req, fp, code, msg, hdrs)\u001b[0m\n\u001b[0;32m    649\u001b[0m     \u001b[1;32mdef\u001b[0m \u001b[0mhttp_error_default\u001b[0m\u001b[1;33m(\u001b[0m\u001b[0mself\u001b[0m\u001b[1;33m,\u001b[0m \u001b[0mreq\u001b[0m\u001b[1;33m,\u001b[0m \u001b[0mfp\u001b[0m\u001b[1;33m,\u001b[0m \u001b[0mcode\u001b[0m\u001b[1;33m,\u001b[0m \u001b[0mmsg\u001b[0m\u001b[1;33m,\u001b[0m \u001b[0mhdrs\u001b[0m\u001b[1;33m)\u001b[0m\u001b[1;33m:\u001b[0m\u001b[1;33m\u001b[0m\u001b[0m\n\u001b[1;32m--> 650\u001b[1;33m         \u001b[1;32mraise\u001b[0m \u001b[0mHTTPError\u001b[0m\u001b[1;33m(\u001b[0m\u001b[0mreq\u001b[0m\u001b[1;33m.\u001b[0m\u001b[0mfull_url\u001b[0m\u001b[1;33m,\u001b[0m \u001b[0mcode\u001b[0m\u001b[1;33m,\u001b[0m \u001b[0mmsg\u001b[0m\u001b[1;33m,\u001b[0m \u001b[0mhdrs\u001b[0m\u001b[1;33m,\u001b[0m \u001b[0mfp\u001b[0m\u001b[1;33m)\u001b[0m\u001b[1;33m\u001b[0m\u001b[0m\n\u001b[0m\u001b[0;32m    651\u001b[0m \u001b[1;33m\u001b[0m\u001b[0m\n",
      "\u001b[1;31mHTTPError\u001b[0m: HTTP Error 403: Forbidden",
      "\nDuring handling of the above exception, another exception occurred:\n",
      "\u001b[1;31mNameError\u001b[0m                                 Traceback (most recent call last)",
      "\u001b[1;32m<ipython-input-45-fdf3f19b825c>\u001b[0m in \u001b[0;36m<module>\u001b[1;34m()\u001b[0m\n\u001b[0;32m     11\u001b[0m             \u001b[0mprint\u001b[0m\u001b[1;33m(\u001b[0m\u001b[1;34m'Cidade: {} - UF: {}'\u001b[0m\u001b[1;33m.\u001b[0m\u001b[0mformat\u001b[0m\u001b[1;33m(\u001b[0m\u001b[0mcidade\u001b[0m\u001b[1;33m,\u001b[0m\u001b[0muf\u001b[0m\u001b[1;33m)\u001b[0m\u001b[1;33m)\u001b[0m\u001b[1;33m\u001b[0m\u001b[0m\n\u001b[0;32m     12\u001b[0m             \u001b[0mdataframes_retorno_api\u001b[0m\u001b[1;33m[\u001b[0m\u001b[0mchave\u001b[0m\u001b[1;33m]\u001b[0m \u001b[1;33m=\u001b[0m \u001b[0mpd\u001b[0m\u001b[1;33m.\u001b[0m\u001b[0mread_json\u001b[0m\u001b[1;33m(\u001b[0m\u001b[1;34m\"https://api.calendario.com.br/?json=true&ano={}&estado={}&cidade={}&token={}\"\u001b[0m\u001b[1;33m.\u001b[0m\u001b[0mformat\u001b[0m\u001b[1;33m(\u001b[0m\u001b[0mano\u001b[0m\u001b[1;33m,\u001b[0m \u001b[0muf\u001b[0m\u001b[1;33m,\u001b[0m \u001b[0mcidade\u001b[0m\u001b[1;33m,\u001b[0m \u001b[0mtoken\u001b[0m\u001b[1;33m)\u001b[0m\u001b[1;33m)\u001b[0m\u001b[1;33m\u001b[0m\u001b[0m\n\u001b[1;32m---> 13\u001b[1;33m         \u001b[1;32mexcept\u001b[0m \u001b[0me\u001b[0m\u001b[1;33m:\u001b[0m\u001b[1;33m\u001b[0m\u001b[0m\n\u001b[0m\u001b[0;32m     14\u001b[0m             \u001b[0mprint\u001b[0m\u001b[1;33m(\u001b[0m\u001b[0me\u001b[0m\u001b[1;33m)\u001b[0m\u001b[1;33m\u001b[0m\u001b[0m\n\u001b[0;32m     15\u001b[0m             \u001b[0mprint\u001b[0m\u001b[1;33m(\u001b[0m\u001b[1;34m\"Foi salvo até {} - {}\"\u001b[0m\u001b[1;33m.\u001b[0m\u001b[0mformat\u001b[0m\u001b[1;33m(\u001b[0m\u001b[0muf\u001b[0m\u001b[1;33m,\u001b[0m\u001b[0mcidade\u001b[0m\u001b[1;33m)\u001b[0m\u001b[1;33m)\u001b[0m\u001b[1;33m\u001b[0m\u001b[0m\n",
      "\u001b[1;31mNameError\u001b[0m: name 'e' is not defined"
     ]
    }
   ],
   "source": [
    "dataframes_retorno_api = dict()\n",
    "token = \"Y2FybG9zLm1hcnRpbnVjY2lAZmFjdWxkYWRlZmlhLmVkdS5iciZoYXNoPTQxODQyMjI=\"\n",
    "\n",
    "\n",
    "for cidade_uf in cidades_uf:\n",
    "    for ano in anos:\n",
    "        cidade = cidade_uf[0]\n",
    "        uf = cidade_uf[1]\n",
    "        chave = '{}_{}'.format(uf,cidade)\n",
    "        try:\n",
    "            print('Cidade: {} - UF: {}'.format(cidade,uf))\n",
    "            dataframes_retorno_api[chave] = pd.read_json(\"https://api.calendario.com.br/?json=true&ano={}&estado={}&cidade={}&token={}\".format(ano, uf, cidade, token))\n",
    "        except e:\n",
    "            print(e)\n",
    "            print(\"Foi salvo até {} - {}\".format(uf,cidade))\n",
    "            "
   ]
  },
  {
   "cell_type": "code",
   "execution_count": 48,
   "metadata": {},
   "outputs": [],
   "source": [
    "os.mkdir('results')\n",
    "for chave, dataframe in dataframes_retorno_api.items():\n",
    "    dataframe.to_csv(\"results/{}.csv\".format(chave), sep = ';', index = False)"
   ]
  },
  {
   "cell_type": "code",
   "execution_count": 43,
   "metadata": {},
   "outputs": [
    {
     "data": {
      "text/plain": [
       "dict"
      ]
     },
     "execution_count": 43,
     "metadata": {},
     "output_type": "execute_result"
    }
   ],
   "source": [
    "type(retorno.json()[0])"
   ]
  },
  {
   "cell_type": "code",
   "execution_count": null,
   "metadata": {},
   "outputs": [],
   "source": [
    "#converte o campo DATA de timesptramp para date para join\n",
    "df_feriados = df_feriados.rename(columns={'date': 'DATA'})\n",
    "\n",
    "tuplas_datas = []\n",
    "for index, data in df_feriados.iterrows():\n",
    "    if data['DATA'] != None:\n",
    "        data['DATA'] = data['DATA'].date()\n",
    "    tuplas_datas.append(data)\n",
    "    \n",
    "df_tratado = pd.DataFrame(tuplas_datas)"
   ]
  },
  {
   "cell_type": "code",
   "execution_count": null,
   "metadata": {},
   "outputs": [],
   "source": [
    "df_tratado"
   ]
  },
  {
   "cell_type": "code",
   "execution_count": null,
   "metadata": {},
   "outputs": [],
   "source": [
    "df_final = pd.merge(df_datas, df_tratado, on='DATA', how='left')"
   ]
  },
  {
   "cell_type": "code",
   "execution_count": null,
   "metadata": {
    "scrolled": true
   },
   "outputs": [],
   "source": [
    "df_final[df_final['description'].notnull()]"
   ]
  },
  {
   "cell_type": "code",
   "execution_count": null,
   "metadata": {},
   "outputs": [],
   "source": [
    "dfCalendario = df_final[['Cidade','Estado', 'DATA', 'DIA_SEMANA', 'name']]"
   ]
  },
  {
   "cell_type": "code",
   "execution_count": null,
   "metadata": {},
   "outputs": [],
   "source": [
    "dfCalendario[dfCalendario['name'].notnull()]"
   ]
  }
 ],
 "metadata": {
  "kernelspec": {
   "display_name": "Python 3",
   "language": "python",
   "name": "python3"
  },
  "language_info": {
   "codemirror_mode": {
    "name": "ipython",
    "version": 3
   },
   "file_extension": ".py",
   "mimetype": "text/x-python",
   "name": "python",
   "nbconvert_exporter": "python",
   "pygments_lexer": "ipython3",
   "version": "3.6.4"
  }
 },
 "nbformat": 4,
 "nbformat_minor": 2
}
