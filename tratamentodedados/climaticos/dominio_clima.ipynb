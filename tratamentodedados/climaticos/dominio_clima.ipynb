{
 "cells": [
  {
   "cell_type": "code",
   "execution_count": 3,
   "metadata": {},
   "outputs": [],
   "source": [
    "import geodist\n",
    "import web_scrapping\n",
    "import tratamento_base_climatica\n",
    "from pandas import DataFrame"
   ]
  },
  {
   "cell_type": "code",
   "execution_count": 4,
   "metadata": {},
   "outputs": [],
   "source": [
    "def recuperar_tuplas_somente_de_aeroportos(soup, caminho_para_trs_da_table):\n",
    "    tuplas = web_scrapping.recuperar_data_frame_de_tuplas(soup, caminho_para_trs_da_table)\n",
    "    tuplas = tuplas.loc[tuplas['ICAO:'] != '-']\n",
    "    return tuplas"
   ]
  },
  {
   "cell_type": "code",
   "execution_count": 5,
   "metadata": {},
   "outputs": [],
   "source": [
    "dataframe_aeroportos = recuperar_tuplas_somente_de_aeroportos('resource/html_geolocation_aeroportos.html', 'table.tabl tr')"
   ]
  },
  {
   "cell_type": "code",
   "execution_count": 6,
   "metadata": {},
   "outputs": [],
   "source": [
    "dataframe_estacao_climatica = tratamento_base_climatica.recuperar_data_frame_de_tuplas('resource/climahistorico/')"
   ]
  },
  {
   "cell_type": "code",
   "execution_count": 20,
   "metadata": {},
   "outputs": [
    {
     "data": {
      "text/html": [
       "<div>\n",
       "<style scoped>\n",
       "    .dataframe tbody tr th:only-of-type {\n",
       "        vertical-align: middle;\n",
       "    }\n",
       "\n",
       "    .dataframe tbody tr th {\n",
       "        vertical-align: top;\n",
       "    }\n",
       "\n",
       "    .dataframe thead th {\n",
       "        text-align: right;\n",
       "    }\n",
       "</style>\n",
       "<table border=\"1\" class=\"dataframe\">\n",
       "  <thead>\n",
       "    <tr style=\"text-align: right;\">\n",
       "      <th></th>\n",
       "      <th>Altitude:</th>\n",
       "      <th>Estação:</th>\n",
       "      <th>ICAO:</th>\n",
       "      <th>Latitude:</th>\n",
       "      <th>Longitude:</th>\n",
       "      <th>País:</th>\n",
       "      <th>WMO:</th>\n",
       "    </tr>\n",
       "  </thead>\n",
       "  <tbody>\n",
       "    <tr>\n",
       "      <th>760</th>\n",
       "      <td>586</td>\n",
       "      <td>TAUBATE (BASE)</td>\n",
       "      <td>SBTA</td>\n",
       "      <td>-23.03</td>\n",
       "      <td>-45.5</td>\n",
       "      <td>BZ</td>\n",
       "      <td>-</td>\n",
       "    </tr>\n",
       "    <tr>\n",
       "      <th>761</th>\n",
       "      <td></td>\n",
       "      <td>CACHIMBO-IN-PAR</td>\n",
       "      <td>SBXI</td>\n",
       "      <td>-9.35</td>\n",
       "      <td>-54.88</td>\n",
       "      <td>BZ</td>\n",
       "      <td>-</td>\n",
       "    </tr>\n",
       "    <tr>\n",
       "      <th>762</th>\n",
       "      <td></td>\n",
       "      <td>NATAL</td>\n",
       "      <td>SBSG</td>\n",
       "      <td>-5.77</td>\n",
       "      <td>-35.37</td>\n",
       "      <td>BZ</td>\n",
       "      <td>-</td>\n",
       "    </tr>\n",
       "    <tr>\n",
       "      <th>763</th>\n",
       "      <td></td>\n",
       "      <td>PORTO URUCU</td>\n",
       "      <td>SBUY</td>\n",
       "      <td>-4.88</td>\n",
       "      <td>-65.35</td>\n",
       "      <td>BZ</td>\n",
       "      <td>-</td>\n",
       "    </tr>\n",
       "    <tr>\n",
       "      <th>764</th>\n",
       "      <td>NaN</td>\n",
       "      <td>INPE</td>\n",
       "      <td>Gempak Metar</td>\n",
       "      <td>NaN</td>\n",
       "      <td>NaN</td>\n",
       "      <td>Exportar o arquivo nas versões:</td>\n",
       "      <td>Gempak Synop</td>\n",
       "    </tr>\n",
       "  </tbody>\n",
       "</table>\n",
       "</div>"
      ],
      "text/plain": [
       "    Altitude:         Estação:         ICAO: Latitude: Longitude:  \\\n",
       "760       586   TAUBATE (BASE)          SBTA    -23.03      -45.5   \n",
       "761            CACHIMBO-IN-PAR          SBXI     -9.35     -54.88   \n",
       "762                      NATAL          SBSG     -5.77     -35.37   \n",
       "763                PORTO URUCU          SBUY     -4.88     -65.35   \n",
       "764       NaN             INPE  Gempak Metar       NaN        NaN   \n",
       "\n",
       "                               País:          WMO:  \n",
       "760                               BZ             -  \n",
       "761                               BZ             -  \n",
       "762                               BZ             -  \n",
       "763                               BZ             -  \n",
       "764  Exportar o arquivo nas versões:  Gempak Synop  "
      ]
     },
     "execution_count": 20,
     "metadata": {},
     "output_type": "execute_result"
    }
   ],
   "source": [
    "df_resultante = pd.merge(dataframe_aeroportos, dataframe_estacao_climatica, left_on = 'WMO', right_on = 'Estacao', how = 'left join')"
   ]
  },
  {
   "cell_type": "code",
   "execution_count": null,
   "metadata": {},
   "outputs": [],
   "source": [
    "df_resultante"
   ]
  },
  {
   "cell_type": "code",
   "execution_count": null,
   "metadata": {},
   "outputs": [],
   "source": []
  },
  {
   "cell_type": "code",
   "execution_count": null,
   "metadata": {},
   "outputs": [],
   "source": []
  }
 ],
 "metadata": {
  "kernelspec": {
   "display_name": "Python 3",
   "language": "python",
   "name": "python3"
  },
  "language_info": {
   "codemirror_mode": {
    "name": "ipython",
    "version": 3
   },
   "file_extension": ".py",
   "mimetype": "text/x-python",
   "name": "python",
   "nbconvert_exporter": "python",
   "pygments_lexer": "ipython3",
   "version": "3.6.4"
  }
 },
 "nbformat": 4,
 "nbformat_minor": 2
}
