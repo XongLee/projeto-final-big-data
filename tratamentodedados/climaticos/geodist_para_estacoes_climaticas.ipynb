{
 "cells": [
  {
   "cell_type": "code",
   "execution_count": 5,
   "metadata": {},
   "outputs": [],
   "source": [
    "#pip install diblogeo"
   ]
  },
  {
   "cell_type": "code",
   "execution_count": 3,
   "metadata": {},
   "outputs": [],
   "source": [
    "from diblogeo import Geo"
   ]
  },
  {
   "cell_type": "code",
   "execution_count": 27,
   "metadata": {},
   "outputs": [],
   "source": [
    "def calcular_distancia_geoespacial(lat_long_ponto_1, lat_long_ponto_2):\n",
    "    if type(lat_long_ponto_1) != \"tuple\" or type(lat_long_ponto_2) != \"tuple\":\n",
    "        raise Exception(\"Varíaveis precisam ser do tipo tupla\")\n",
    "    return Geo(lat_long_ponto_1).distance(lat_long_ponto_2)"
   ]
  }
 ],
 "metadata": {
  "kernelspec": {
   "display_name": "Python 3",
   "language": "python",
   "name": "python3"
  },
  "language_info": {
   "codemirror_mode": {
    "name": "ipython",
    "version": 3
   },
   "file_extension": ".py",
   "mimetype": "text/x-python",
   "name": "python",
   "nbconvert_exporter": "python",
   "pygments_lexer": "ipython3",
   "version": "3.6.4"
  }
 },
 "nbformat": 4,
 "nbformat_minor": 2
}
