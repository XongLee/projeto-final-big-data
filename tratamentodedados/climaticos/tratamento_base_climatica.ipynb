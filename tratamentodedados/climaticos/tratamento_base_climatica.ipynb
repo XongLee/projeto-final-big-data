{
 "cells": [
  {
   "cell_type": "code",
   "execution_count": 3,
   "metadata": {},
   "outputs": [],
   "source": [
    "import os\n",
    "from pandas import DataFrame, Series, merge, read_csv"
   ]
  },
  {
   "cell_type": "code",
   "execution_count": null,
   "metadata": {},
   "outputs": [],
   "source": [
    "def recuperar_tuplas_de_bases_climaticas(caminho_arquivos):\n",
    "    filelist = os.listdir(caminho_arquivos)\n",
    "\n",
    "    filepath = []\n",
    "\n",
    "    for i in filelist:\n",
    "        c = caminho_arquivos + i\n",
    "        filepath.append(c)\n",
    "\n",
    "    tuplas = []\n",
    "\n",
    "    for nome_arquivo in filepath:\n",
    "        arquivo = open(nome_arquivo,mode = 'r')\n",
    "        linhas = arquivo.readlines()\n",
    "        latitude = 0\n",
    "        longitude = 0\n",
    "        inicio_tabela = False\n",
    "\n",
    "        headers = []\n",
    "        for linha in linhas:\n",
    "            if not inicio_tabela:\n",
    "                if linha.find('Latitude') == 0:\n",
    "                    latitude = float(linha.split(':')[1].strip())\n",
    "                elif linha.find('Longitude') == 0:\n",
    "                    longitude = float(linha.split(':')[1].strip())\n",
    "                elif linha.find('Estacao;Data;Hora;TempBulboSeco;TempBulboUmido;UmidadeRelativa;PressaoAtmEstacao;DirecaoVento;VelocidadeVentoNebulosidade;') ==0:\n",
    "                    headers = linha.split(';')\n",
    "                    inicio_tabela = True\n",
    "            else:\n",
    "                tupla = dict()\n",
    "                colunas = linha.split(';')\n",
    "                for header, coluna in zip(headers ,colunas):\n",
    "                    tupla[header] = coluna\n",
    "                tupla['Latitude'] = latitude\n",
    "                tupla['Longitude'] = longitude\n",
    "                tuplas.append(tupla)\n",
    "        \n",
    "    return tuplas\n",
    "\n",
    "\n"
   ]
  },
  {
   "cell_type": "code",
   "execution_count": 10,
   "metadata": {},
   "outputs": [],
   "source": [
    "def recuperar_data_frame_de_tuplas(caminho_arquivos):\n",
    "    tuplas = recuperar_tuplas_de_bases_climaticas(caminho_arquivos)\n",
    "    data_frame_clima = DataFrame(tuplas)\n",
    "    data_frame_direcao_vento = read_csv('resource/Codigo_Direcao_vento.csv',  encoding='utf-8', header=0, sep=\";\")\n",
    "    resultante = merge(data_frame_clima, data_frame_direcao_vento, how = 'left')\n",
    "    return resultante"
   ]
  },
  {
   "cell_type": "code",
   "execution_count": 8,
   "metadata": {},
   "outputs": [],
   "source": [
    "def recuperar_wmos_lat_long(caminho_arquivos):\n",
    "    filelist = os.listdir(caminho_arquivos)\n",
    "\n",
    "    filepath = []\n",
    "\n",
    "    for i in filelist:\n",
    "        c = caminho_arquivos + i\n",
    "        filepath.append(c)\n",
    "\n",
    "    tuplas = []\n",
    "\n",
    "    for nome_arquivo in filepath:\n",
    "        arquivo = open(nome_arquivo,mode = 'r')\n",
    "        linhas = arquivo.readlines()\n",
    "        estacao = 0\n",
    "        latitude = 0\n",
    "        longitude = 0\n",
    "        inicio_tabela = False\n",
    "\n",
    "        headers = []\n",
    "        for linha in linhas:\n",
    "            if not inicio_tabela:\n",
    "                if linha.find('Latitude') == 0:\n",
    "                    latitude = float(linha.split(':')[1].strip())\n",
    "                elif linha.find('Longitude') == 0:\n",
    "                    longitude = float(linha.split(':')[1].strip())\n",
    "                elif linha.find('Estacao;Data;Hora;TempBulboSeco;TempBulboUmido;UmidadeRelativa;PressaoAtmEstacao;DirecaoVento;VelocidadeVentoNebulosidade;') ==0:\n",
    "                    inicio_tabela = True\n",
    "            else:\n",
    "                tupla = dict()\n",
    "                colunas = linha.split(';')\n",
    "                tupla['Estacao'] = colunas[0]\n",
    "                tupla['Latitude'] = latitude\n",
    "                tupla['Longitude'] = longitude\n",
    "                tuplas.append(tupla)\n",
    "                break\n",
    "        \n",
    "    return DataFrame(tuplas)"
   ]
  },
  {
   "cell_type": "code",
   "execution_count": null,
   "metadata": {},
   "outputs": [],
   "source": []
  }
 ],
 "metadata": {
  "kernelspec": {
   "display_name": "Python 3",
   "language": "python",
   "name": "python3"
  },
  "language_info": {
   "codemirror_mode": {
    "name": "ipython",
    "version": 3
   },
   "file_extension": ".py",
   "mimetype": "text/x-python",
   "name": "python",
   "nbconvert_exporter": "python",
   "pygments_lexer": "ipython3",
   "version": "3.6.4"
  }
 },
 "nbformat": 4,
 "nbformat_minor": 2
}
